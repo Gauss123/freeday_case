{
 "cells": [
  {
   "cell_type": "code",
   "execution_count": 1,
   "id": "dd18a581",
   "metadata": {},
   "outputs": [],
   "source": [
    "#import libraries\n",
    "import json\n",
    "from datetime import datetime, date\n",
    "import requests\n",
    "import urllib.parse\n",
    "import urllib.request\n",
    "from fastapi import FastAPI, Request\n",
    "from fastapi.responses import JSONResponse"
   ]
  },
  {
   "cell_type": "code",
   "execution_count": 10,
   "id": "e440180b",
   "metadata": {},
   "outputs": [],
   "source": [
    "#example request from dialogflow cx\n",
    "request_json = {\n",
    "  \"queryResult\": {\n",
    "    \"queryText\": \"What is the weather in Amsterdam on Friday?\",\n",
    "    \"parameters\": {\n",
    "      \"date_day\": { \"day\": 4, \"month\": 3, \"year\": 2023 }, \n",
    "      \"location_city\": \"Amsterdam\"\n",
    "    }\n",
    "  }\n",
    "}"
   ]
  },
  {
   "cell_type": "code",
   "execution_count": 16,
   "id": "dff0caee",
   "metadata": {},
   "outputs": [],
   "source": [
    "def weather(request_json):\n",
    "    city_name = request_json['queryResult']['parameters']['location_city']\n",
    "\n",
    "    query_date = request_json['queryResult']['parameters']['date_day']\n",
    "    query_date = date(query_date['year'], query_date['month'], query_date['day'])\n",
    "\n",
    "    api_key = \"****************\"\n",
    "    endpoint = 'https://api.openweathermap.org/data/2.5/forecast'\n",
    "\n",
    "    query_params = {\n",
    "    'q': city_name,\n",
    "    'units': 'metric',\n",
    "    'appid': api_key\n",
    "    }\n",
    "\n",
    "    #send API request and retrieve JSON response with 'requests'\n",
    "    # response = requests.get(endpoint, params=query_params)\n",
    "    # weather_data = response.json()\n",
    "\n",
    "    #encode query parameters with urllib\n",
    "    query_string = urllib.parse.urlencode(query_params)\n",
    "    #send API request and retrieve JSON response\n",
    "    response = urllib.request.urlopen(endpoint + '?' + query_string)\n",
    "    weather_data = json.loads(response.read().decode())\n",
    "    \n",
    "    #create list with dicts with all forecast data\n",
    "    forecast_data = []\n",
    "\n",
    "    for forecast in weather_data['list']:\n",
    "        forecast_date = datetime.fromtimestamp(forecast['dt'])\n",
    "        forecast_time = forecast['dt_txt'].split()[1]\n",
    "        forecast_temp_min = forecast['main']['temp_min']\n",
    "        forecast_temp_max = forecast['main']['temp_max']\n",
    "        forecast_data.append({'date': forecast_date, 'time': forecast_time, 'temp_min': forecast_temp_min, 'temp_max': forecast_temp_max})\n",
    "\n",
    "    #collect all the minimum and maximum temperatures of day\n",
    "    min_temps = []\n",
    "    max_temps = []\n",
    "\n",
    "    for datestamp in forecast_data:\n",
    "        #check data for the query date\n",
    "        if datestamp['date'].date() == query_date:\n",
    "            min_temps.append(datestamp['temp_min'])\n",
    "            max_temps.append(datestamp['temp_max'])\n",
    "\n",
    "    #calculate the minimum and maximum temperature of day\n",
    "    min_temp = min(min_temps)\n",
    "    max_temp = max(max_temps)\n",
    "    \n",
    "    #create response text\n",
    "    response_text = \"On \" + str(query_date) + \" in \" + city_name + \" the minimum temperature is \" + str(min_temp) + \"°C and the maximum temperature is \" + str(max_temp) + \"°C\"\n",
    "    \n",
    "    #dump retrieved data in appropiate json format\n",
    "    response = json.dumps(\n",
    "            {\n",
    "                \"fulfillment_response\": {\n",
    "                    \"messages\": [\n",
    "                        {\n",
    "                            \"text\": {\n",
    "                                \"text\": [f\"Minimum temperature: {min_temp} Maximum temperature: {max_temp}\"],\n",
    "                            }\n",
    "                        }\n",
    "                    ]\n",
    "                }\n",
    "            }\n",
    "        )\n",
    "    \n",
    "    return(response)"
   ]
  },
  {
   "cell_type": "code",
   "execution_count": 17,
   "id": "827c2236",
   "metadata": {},
   "outputs": [
    {
     "data": {
      "text/plain": [
       "'{\"fulfillment_response\": {\"messages\": [{\"text\": {\"text\": [\"Minimum temperature: 3.78 Maximum temperature: 6.88\"]}}]}}'"
      ]
     },
     "execution_count": 17,
     "metadata": {},
     "output_type": "execute_result"
    }
   ],
   "source": [
    "weather(request_json)"
   ]
  },
  {
   "cell_type": "code",
   "execution_count": null,
   "id": "e354cac6",
   "metadata": {},
   "outputs": [],
   "source": []
  }
 ],
 "metadata": {
  "kernelspec": {
   "display_name": "Python 3",
   "language": "python",
   "name": "python3"
  },
  "language_info": {
   "codemirror_mode": {
    "name": "ipython",
    "version": 3
   },
   "file_extension": ".py",
   "mimetype": "text/x-python",
   "name": "python",
   "nbconvert_exporter": "python",
   "pygments_lexer": "ipython3",
   "version": "3.8.8"
  }
 },
 "nbformat": 4,
 "nbformat_minor": 5
}
